{
 "cells": [
  {
   "cell_type": "code",
   "execution_count": null,
   "id": "6a4db0fa-2249-4a69-b53f-8deb667ed9e9",
   "metadata": {},
   "outputs": [],
   "source": [
    "# Movie Search - Neptune\n",
    "https://aws.amazon.com/blogs/database/make-relevant-movie-recommendations-using-amazon-neptune-amazon-neptune-machine-learning-and-amazon-opensearch-service/\n",
    "https://github.com/aws-samples/amazon-neptune-ontology-example-blog.git\n",
    "\n"
   ]
  },
  {
   "cell_type": "code",
   "execution_count": 1,
   "id": "e8e49d70-4ae5-47f4-bb7a-c1f379e3b072",
   "metadata": {
    "tags": []
   },
   "outputs": [],
   "source": [
    "!pip install -q opensearch-py"
   ]
  },
  {
   "cell_type": "code",
   "execution_count": null,
   "id": "ee58ecf8-28e1-4674-b5ad-f3e6ac4da584",
   "metadata": {},
   "outputs": [],
   "source": [
    "# Reference \n",
    "https://docs.aws.amazon.com/opensearch-service/latest/developerguide/serverless-clients.html#serverless-python"
   ]
  },
  {
   "cell_type": "code",
   "execution_count": 2,
   "id": "935ea22c-6fc3-4a88-a3e4-e6dc03c8ea1e",
   "metadata": {
    "tags": []
   },
   "outputs": [],
   "source": [
    "import boto3\n",
    "\n",
    "REGION = boto3.Session().region_name\n",
    "\n",
    "# Replace with your S3 bucket where you prepared the IMDB data for Neptune use\n",
    "SOURCE_S3_PATH_NOSLASH=f\"s3://ekg-da-poc\"\n",
    "\n",
    "# Replace with your Amazon OpenSearch Service domain endpoint\n",
    "FTS_AOS_ENDPOINT=\"https://z9urozgne3v5p4ywe2fj.us-east-1.aoss.amazonaws.com\"\n",
    "\n",
    "VS_AOS_ENDPOINT=\"https://8kd01utb7q4h0s0lec3g.us-east-1.aoss.amazonaws.com\"\n",
    "\n",
    "# Replace with your IAM role for the GNN embedding pipeline.\n",
    "SAGEMAKER_ROLE=\"arn:aws:iam::196856463470:role/SandboxServiceRole\""
   ]
  },
  {
   "cell_type": "code",
   "execution_count": 3,
   "id": "83125334-4dfc-44cc-abf1-2e0c6d129c9b",
   "metadata": {
    "tags": []
   },
   "outputs": [],
   "source": [
    "from opensearchpy import OpenSearch, RequestsHttpConnection, AWSV4SignerAuth, RequestsAWSV4SignerAuth\n",
    "from opensearchpy.helpers import bulk\n",
    "import boto3\n",
    "\n",
    "service = 'aoss'\n",
    "region2 = 'us-east-1'\n",
    "\n",
    "service = 'aoss'\n",
    "\n",
    "credentials = boto3.Session().get_credentials()\n",
    "auth2 = RequestsAWSV4SignerAuth(credentials, region2, service)\n",
    "\n",
    "vs_aos_client = OpenSearch(\n",
    "    hosts = [{'host': VS_AOS_ENDPOINT.split(\"//\")[1], 'port': 443}],\n",
    "    http_auth=auth2,\n",
    "    use_ssl = True,\n",
    "    verify_certs = True,\n",
    "    connection_class = RequestsHttpConnection,\n",
    "    pool_maxsize=20,\n",
    ")\n"
   ]
  },
  {
   "cell_type": "code",
   "execution_count": 4,
   "id": "05e5b4b4-ef99-4a4d-982b-1eaddf103149",
   "metadata": {
    "tags": []
   },
   "outputs": [
    {
     "data": {
      "text/plain": [
       "{'movie_sentence': {'aliases': {}},\n",
       " 'movie_2': {'aliases': {}},\n",
       " 'movie_4': {'aliases': {}},\n",
       " 'movie': {'aliases': {}},\n",
       " 'movie_3': {'aliases': {}},\n",
       " 'movie_6': {'aliases': {}},\n",
       " 'movie_5': {'aliases': {}},\n",
       " 'movie_8': {'aliases': {}},\n",
       " 'movie_7': {'aliases': {}},\n",
       " 'python-test-index': {'aliases': {}},\n",
       " 'books-index': {'aliases': {}},\n",
       " 'movie_sentence_4': {'aliases': {}},\n",
       " '.opensearch_dashboards_1': {'aliases': {'.opensearch_dashboards': {}}},\n",
       " 'movie_sentence_3': {'aliases': {}},\n",
       " 'movie_gnn': {'aliases': {}},\n",
       " 'movie_sentence_2': {'aliases': {}},\n",
       " 'movie_sentence_8': {'aliases': {}},\n",
       " 'movie_sentence_7': {'aliases': {}},\n",
       " 'movie_sentence_6': {'aliases': {}},\n",
       " 'movie_gnn_6': {'aliases': {}},\n",
       " 'movie_gnn_4': {'aliases': {}},\n",
       " 'movie_gnn_3': {'aliases': {}},\n",
       " 'movie_gnn_2': {'aliases': {}},\n",
       " 'movie_gnn_8': {'aliases': {}},\n",
       " 'movie_gnn_7': {'aliases': {}}}"
      ]
     },
     "execution_count": 4,
     "metadata": {},
     "output_type": "execute_result"
    }
   ],
   "source": [
    "vs_aos_client.indices.get_alias(index=\"*\")"
   ]
  },
  {
   "cell_type": "code",
   "execution_count": null,
   "id": "c87bbd49-6932-4780-aa95-b62f635af80d",
   "metadata": {},
   "outputs": [],
   "source": [
    "#Reference\n",
    "https://docs.aws.amazon.com/opensearch-service/latest/developerguide/serverless-clients.html#serverless-python\n",
    "https://opensearch.org/docs/latest/clients/python-low-level/"
   ]
  },
  {
   "cell_type": "code",
   "execution_count": 9,
   "id": "30174033-0ad3-4763-aeff-0151ccdd69d1",
   "metadata": {
    "tags": []
   },
   "outputs": [
    {
     "ename": "RequestError",
     "evalue": "RequestError(400, 'resource_already_exists_exception', 'OpenSearch exception [type=resource_already_exists_exception, reason=index [books-index/Iyy3m5EBIRMOPYHx6vl7] already exists]- server : [envoy]')",
     "output_type": "error",
     "traceback": [
      "\u001b[0;31m---------------------------------------------------------------------------\u001b[0m",
      "\u001b[0;31mRequestError\u001b[0m                              Traceback (most recent call last)",
      "Cell \u001b[0;32mIn[9], line 3\u001b[0m\n\u001b[1;32m      1\u001b[0m \u001b[38;5;66;03m# create an index\u001b[39;00m\n\u001b[1;32m      2\u001b[0m index_name \u001b[38;5;241m=\u001b[39m \u001b[38;5;124m'\u001b[39m\u001b[38;5;124mbooks-index\u001b[39m\u001b[38;5;124m'\u001b[39m\n\u001b[0;32m----> 3\u001b[0m create_response \u001b[38;5;241m=\u001b[39m \u001b[43mvs_aos_client\u001b[49m\u001b[38;5;241;43m.\u001b[39;49m\u001b[43mindices\u001b[49m\u001b[38;5;241;43m.\u001b[39;49m\u001b[43mcreate\u001b[49m\u001b[43m(\u001b[49m\n\u001b[1;32m      4\u001b[0m \u001b[43m    \u001b[49m\u001b[43mindex_name\u001b[49m\n\u001b[1;32m      5\u001b[0m \u001b[43m)\u001b[49m\n\u001b[1;32m      7\u001b[0m \u001b[38;5;28mprint\u001b[39m(\u001b[38;5;124m'\u001b[39m\u001b[38;5;130;01m\\n\u001b[39;00m\u001b[38;5;124mCreating index:\u001b[39m\u001b[38;5;124m'\u001b[39m)\n\u001b[1;32m      8\u001b[0m \u001b[38;5;28mprint\u001b[39m(create_response)\n",
      "File \u001b[0;32m~/anaconda3/envs/JupyterSystemEnv/lib/python3.10/site-packages/opensearchpy/client/utils.py:176\u001b[0m, in \u001b[0;36mquery_params.<locals>._wrapper.<locals>._wrapped\u001b[0;34m(*args, **kwargs)\u001b[0m\n\u001b[1;32m    173\u001b[0m         \u001b[38;5;28;01mif\u001b[39;00m v \u001b[38;5;129;01mis\u001b[39;00m \u001b[38;5;129;01mnot\u001b[39;00m \u001b[38;5;28;01mNone\u001b[39;00m:\n\u001b[1;32m    174\u001b[0m             params[p] \u001b[38;5;241m=\u001b[39m _escape(v)\n\u001b[0;32m--> 176\u001b[0m \u001b[38;5;28;01mreturn\u001b[39;00m \u001b[43mfunc\u001b[49m\u001b[43m(\u001b[49m\u001b[38;5;241;43m*\u001b[39;49m\u001b[43margs\u001b[49m\u001b[43m,\u001b[49m\u001b[43m \u001b[49m\u001b[43mparams\u001b[49m\u001b[38;5;241;43m=\u001b[39;49m\u001b[43mparams\u001b[49m\u001b[43m,\u001b[49m\u001b[43m \u001b[49m\u001b[43mheaders\u001b[49m\u001b[38;5;241;43m=\u001b[39;49m\u001b[43mheaders\u001b[49m\u001b[43m,\u001b[49m\u001b[43m \u001b[49m\u001b[38;5;241;43m*\u001b[39;49m\u001b[38;5;241;43m*\u001b[39;49m\u001b[43mkwargs\u001b[49m\u001b[43m)\u001b[49m\n",
      "File \u001b[0;32m~/anaconda3/envs/JupyterSystemEnv/lib/python3.10/site-packages/opensearchpy/client/indices.py:236\u001b[0m, in \u001b[0;36mIndicesClient.create\u001b[0;34m(self, index, body, params, headers)\u001b[0m\n\u001b[1;32m    233\u001b[0m \u001b[38;5;28;01mif\u001b[39;00m index \u001b[38;5;129;01min\u001b[39;00m SKIP_IN_PATH:\n\u001b[1;32m    234\u001b[0m     \u001b[38;5;28;01mraise\u001b[39;00m \u001b[38;5;167;01mValueError\u001b[39;00m(\u001b[38;5;124m\"\u001b[39m\u001b[38;5;124mEmpty value passed for a required argument \u001b[39m\u001b[38;5;124m'\u001b[39m\u001b[38;5;124mindex\u001b[39m\u001b[38;5;124m'\u001b[39m\u001b[38;5;124m.\u001b[39m\u001b[38;5;124m\"\u001b[39m)\n\u001b[0;32m--> 236\u001b[0m \u001b[38;5;28;01mreturn\u001b[39;00m \u001b[38;5;28;43mself\u001b[39;49m\u001b[38;5;241;43m.\u001b[39;49m\u001b[43mtransport\u001b[49m\u001b[38;5;241;43m.\u001b[39;49m\u001b[43mperform_request\u001b[49m\u001b[43m(\u001b[49m\n\u001b[1;32m    237\u001b[0m \u001b[43m    \u001b[49m\u001b[38;5;124;43m\"\u001b[39;49m\u001b[38;5;124;43mPUT\u001b[39;49m\u001b[38;5;124;43m\"\u001b[39;49m\u001b[43m,\u001b[49m\u001b[43m \u001b[49m\u001b[43m_make_path\u001b[49m\u001b[43m(\u001b[49m\u001b[43mindex\u001b[49m\u001b[43m)\u001b[49m\u001b[43m,\u001b[49m\u001b[43m \u001b[49m\u001b[43mparams\u001b[49m\u001b[38;5;241;43m=\u001b[39;49m\u001b[43mparams\u001b[49m\u001b[43m,\u001b[49m\u001b[43m \u001b[49m\u001b[43mheaders\u001b[49m\u001b[38;5;241;43m=\u001b[39;49m\u001b[43mheaders\u001b[49m\u001b[43m,\u001b[49m\u001b[43m \u001b[49m\u001b[43mbody\u001b[49m\u001b[38;5;241;43m=\u001b[39;49m\u001b[43mbody\u001b[49m\n\u001b[1;32m    238\u001b[0m \u001b[43m\u001b[49m\u001b[43m)\u001b[49m\n",
      "File \u001b[0;32m~/anaconda3/envs/JupyterSystemEnv/lib/python3.10/site-packages/opensearchpy/transport.py:455\u001b[0m, in \u001b[0;36mTransport.perform_request\u001b[0;34m(self, method, url, params, body, timeout, ignore, headers)\u001b[0m\n\u001b[1;32m    453\u001b[0m             \u001b[38;5;28;01mraise\u001b[39;00m e\n\u001b[1;32m    454\u001b[0m     \u001b[38;5;28;01melse\u001b[39;00m:\n\u001b[0;32m--> 455\u001b[0m         \u001b[38;5;28;01mraise\u001b[39;00m e\n\u001b[1;32m    457\u001b[0m \u001b[38;5;28;01melse\u001b[39;00m:\n\u001b[1;32m    458\u001b[0m     \u001b[38;5;66;03m# connection didn't fail, confirm its live status\u001b[39;00m\n\u001b[1;32m    459\u001b[0m     \u001b[38;5;28mself\u001b[39m\u001b[38;5;241m.\u001b[39mconnection_pool\u001b[38;5;241m.\u001b[39mmark_live(connection)\n",
      "File \u001b[0;32m~/anaconda3/envs/JupyterSystemEnv/lib/python3.10/site-packages/opensearchpy/transport.py:416\u001b[0m, in \u001b[0;36mTransport.perform_request\u001b[0;34m(self, method, url, params, body, timeout, ignore, headers)\u001b[0m\n\u001b[1;32m    413\u001b[0m connection \u001b[38;5;241m=\u001b[39m \u001b[38;5;28mself\u001b[39m\u001b[38;5;241m.\u001b[39mget_connection()\n\u001b[1;32m    415\u001b[0m \u001b[38;5;28;01mtry\u001b[39;00m:\n\u001b[0;32m--> 416\u001b[0m     status, headers_response, data \u001b[38;5;241m=\u001b[39m \u001b[43mconnection\u001b[49m\u001b[38;5;241;43m.\u001b[39;49m\u001b[43mperform_request\u001b[49m\u001b[43m(\u001b[49m\n\u001b[1;32m    417\u001b[0m \u001b[43m        \u001b[49m\u001b[43mmethod\u001b[49m\u001b[43m,\u001b[49m\n\u001b[1;32m    418\u001b[0m \u001b[43m        \u001b[49m\u001b[43murl\u001b[49m\u001b[43m,\u001b[49m\n\u001b[1;32m    419\u001b[0m \u001b[43m        \u001b[49m\u001b[43mparams\u001b[49m\u001b[43m,\u001b[49m\n\u001b[1;32m    420\u001b[0m \u001b[43m        \u001b[49m\u001b[43mbody\u001b[49m\u001b[43m,\u001b[49m\n\u001b[1;32m    421\u001b[0m \u001b[43m        \u001b[49m\u001b[43mheaders\u001b[49m\u001b[38;5;241;43m=\u001b[39;49m\u001b[43mheaders\u001b[49m\u001b[43m,\u001b[49m\n\u001b[1;32m    422\u001b[0m \u001b[43m        \u001b[49m\u001b[43mignore\u001b[49m\u001b[38;5;241;43m=\u001b[39;49m\u001b[43mignore\u001b[49m\u001b[43m,\u001b[49m\n\u001b[1;32m    423\u001b[0m \u001b[43m        \u001b[49m\u001b[43mtimeout\u001b[49m\u001b[38;5;241;43m=\u001b[39;49m\u001b[43mtimeout\u001b[49m\u001b[43m,\u001b[49m\n\u001b[1;32m    424\u001b[0m \u001b[43m    \u001b[49m\u001b[43m)\u001b[49m\n\u001b[1;32m    426\u001b[0m     \u001b[38;5;66;03m# Lowercase all the header names for consistency in accessing them.\u001b[39;00m\n\u001b[1;32m    427\u001b[0m     headers_response \u001b[38;5;241m=\u001b[39m {\n\u001b[1;32m    428\u001b[0m         header\u001b[38;5;241m.\u001b[39mlower(): value \u001b[38;5;28;01mfor\u001b[39;00m header, value \u001b[38;5;129;01min\u001b[39;00m headers_response\u001b[38;5;241m.\u001b[39mitems()\n\u001b[1;32m    429\u001b[0m     }\n",
      "File \u001b[0;32m~/anaconda3/envs/JupyterSystemEnv/lib/python3.10/site-packages/opensearchpy/connection/http_requests.py:238\u001b[0m, in \u001b[0;36mRequestsHttpConnection.perform_request\u001b[0;34m(self, method, url, params, body, timeout, allow_redirects, ignore, headers)\u001b[0m\n\u001b[1;32m    225\u001b[0m \u001b[38;5;28;01mif\u001b[39;00m (\n\u001b[1;32m    226\u001b[0m     \u001b[38;5;129;01mnot\u001b[39;00m (\u001b[38;5;241m200\u001b[39m \u001b[38;5;241m<\u001b[39m\u001b[38;5;241m=\u001b[39m response\u001b[38;5;241m.\u001b[39mstatus_code \u001b[38;5;241m<\u001b[39m \u001b[38;5;241m300\u001b[39m)\n\u001b[1;32m    227\u001b[0m     \u001b[38;5;129;01mand\u001b[39;00m response\u001b[38;5;241m.\u001b[39mstatus_code \u001b[38;5;129;01mnot\u001b[39;00m \u001b[38;5;129;01min\u001b[39;00m ignore\n\u001b[1;32m    228\u001b[0m ):\n\u001b[1;32m    229\u001b[0m     \u001b[38;5;28mself\u001b[39m\u001b[38;5;241m.\u001b[39mlog_request_fail(\n\u001b[1;32m    230\u001b[0m         method,\n\u001b[1;32m    231\u001b[0m         url,\n\u001b[0;32m   (...)\u001b[0m\n\u001b[1;32m    236\u001b[0m         raw_data,\n\u001b[1;32m    237\u001b[0m     )\n\u001b[0;32m--> 238\u001b[0m     \u001b[38;5;28;43mself\u001b[39;49m\u001b[38;5;241;43m.\u001b[39;49m\u001b[43m_raise_error\u001b[49m\u001b[43m(\u001b[49m\n\u001b[1;32m    239\u001b[0m \u001b[43m        \u001b[49m\u001b[43mresponse\u001b[49m\u001b[38;5;241;43m.\u001b[39;49m\u001b[43mstatus_code\u001b[49m\u001b[43m,\u001b[49m\n\u001b[1;32m    240\u001b[0m \u001b[43m        \u001b[49m\u001b[43mraw_data\u001b[49m\u001b[43m,\u001b[49m\n\u001b[1;32m    241\u001b[0m \u001b[43m        \u001b[49m\u001b[43mresponse\u001b[49m\u001b[38;5;241;43m.\u001b[39;49m\u001b[43mheaders\u001b[49m\u001b[38;5;241;43m.\u001b[39;49m\u001b[43mget\u001b[49m\u001b[43m(\u001b[49m\u001b[38;5;124;43m\"\u001b[39;49m\u001b[38;5;124;43mContent-Type\u001b[39;49m\u001b[38;5;124;43m\"\u001b[39;49m\u001b[43m)\u001b[49m\u001b[43m,\u001b[49m\n\u001b[1;32m    242\u001b[0m \u001b[43m    \u001b[49m\u001b[43m)\u001b[49m\n\u001b[1;32m    244\u001b[0m \u001b[38;5;28mself\u001b[39m\u001b[38;5;241m.\u001b[39mlog_request_success(\n\u001b[1;32m    245\u001b[0m     method,\n\u001b[1;32m    246\u001b[0m     url,\n\u001b[0;32m   (...)\u001b[0m\n\u001b[1;32m    251\u001b[0m     duration,\n\u001b[1;32m    252\u001b[0m )\n\u001b[1;32m    254\u001b[0m \u001b[38;5;28;01mreturn\u001b[39;00m response\u001b[38;5;241m.\u001b[39mstatus_code, response\u001b[38;5;241m.\u001b[39mheaders, raw_data\n",
      "File \u001b[0;32m~/anaconda3/envs/JupyterSystemEnv/lib/python3.10/site-packages/opensearchpy/connection/base.py:315\u001b[0m, in \u001b[0;36mConnection._raise_error\u001b[0;34m(self, status_code, raw_data, content_type)\u001b[0m\n\u001b[1;32m    312\u001b[0m \u001b[38;5;28;01mexcept\u001b[39;00m (\u001b[38;5;167;01mValueError\u001b[39;00m, \u001b[38;5;167;01mTypeError\u001b[39;00m) \u001b[38;5;28;01mas\u001b[39;00m err:\n\u001b[1;32m    313\u001b[0m     logger\u001b[38;5;241m.\u001b[39mwarning(\u001b[38;5;124m\"\u001b[39m\u001b[38;5;124mUndecodable raw error response from server: \u001b[39m\u001b[38;5;132;01m%s\u001b[39;00m\u001b[38;5;124m\"\u001b[39m, err)\n\u001b[0;32m--> 315\u001b[0m \u001b[38;5;28;01mraise\u001b[39;00m HTTP_EXCEPTIONS\u001b[38;5;241m.\u001b[39mget(status_code, TransportError)(\n\u001b[1;32m    316\u001b[0m     status_code, error_message, additional_info\n\u001b[1;32m    317\u001b[0m )\n",
      "\u001b[0;31mRequestError\u001b[0m: RequestError(400, 'resource_already_exists_exception', 'OpenSearch exception [type=resource_already_exists_exception, reason=index [books-index/Iyy3m5EBIRMOPYHx6vl7] already exists]- server : [envoy]')"
     ]
    }
   ],
   "source": [
    "# create an index\n",
    "index_name = 'books-index'\n",
    "create_response = vs_aos_client.indices.create(\n",
    "    index_name\n",
    ")\n",
    "\n",
    "print('\\nCreating index:')\n",
    "print(create_response)\n"
   ]
  },
  {
   "cell_type": "code",
   "execution_count": 5,
   "id": "d793c307-8e86-4e0b-bf24-5394ef5aeacc",
   "metadata": {
    "tags": []
   },
   "outputs": [],
   "source": [
    "book_index_2 = {\n",
    "    \"settings\": {\n",
    "        \"number_of_replicas\": 1,\n",
    "        \"number_of_shards\": 1,\n",
    "        \"analysis\": {\n",
    "          \"analyzer\": {\n",
    "            \"default\": {\n",
    "              \"type\": \"standard\",\n",
    "              \"stopwords\": \"_english_\"\n",
    "            }\n",
    "          }\n",
    "        }\n",
    "    },\n",
    "    \"mappings\" : {\n",
    "    \"properties\" : {\n",
    "      \"director\" : {\n",
    "        \"type\" :  \"text\"\n",
    "      },\n",
    "      \"title\" : {\n",
    "        \"type\" :  \"text\"\n",
    "      },\n",
    "      \"year\" : {\n",
    "        \"type\" :  \"text\"\n",
    "      },\n",
    "      \"id\" : {\n",
    "        \"type\" :  \"text\"\n",
    "      }\n",
    "    }\n",
    "  }\n",
    "}"
   ]
  },
  {
   "cell_type": "code",
   "execution_count": 6,
   "id": "6dca4994-59f3-4e79-a106-a57b883374e5",
   "metadata": {
    "tags": []
   },
   "outputs": [
    {
     "data": {
      "text/plain": [
       "{'acknowledged': True, 'shards_acknowledged': True, 'index': 'book_2'}"
      ]
     },
     "execution_count": 6,
     "metadata": {},
     "output_type": "execute_result"
    }
   ],
   "source": [
    "#vs_aos_client.indices.delete(index=\"book_2\")\n",
    "vs_aos_client.indices.create(index=\"book_2\",body=book_index_2)"
   ]
  },
  {
   "cell_type": "code",
   "execution_count": 11,
   "id": "02a85956-cff6-4dcf-a3bb-fcaa5a1524ec",
   "metadata": {
    "tags": []
   },
   "outputs": [
    {
     "data": {
      "text/plain": [
       "{'books-index': {'aliases': {},\n",
       "  'mappings': {'properties': {'director': {'type': 'text',\n",
       "     'fields': {'keyword': {'type': 'keyword', 'ignore_above': 256}}},\n",
       "    'title': {'type': 'text',\n",
       "     'fields': {'keyword': {'type': 'keyword', 'ignore_above': 256}}},\n",
       "    'year': {'type': 'text',\n",
       "     'fields': {'keyword': {'type': 'keyword', 'ignore_above': 256}}}}},\n",
       "  'settings': {'index': {'creation_date': '1724894256589',\n",
       "    'number_of_shards': '2',\n",
       "    'number_of_replicas': '0',\n",
       "    'uuid': 'ICy1m5EBIRMOPYHxnflq',\n",
       "    'version': {'created': '135217827'},\n",
       "    'provided_name': 'books-index'}}}}"
      ]
     },
     "execution_count": 11,
     "metadata": {},
     "output_type": "execute_result"
    }
   ],
   "source": [
    "vs_aos_client.indices.get(index=\"books-index\")"
   ]
  },
  {
   "cell_type": "code",
   "execution_count": 7,
   "id": "9bd49613-296a-4629-b595-9b31d43ba65b",
   "metadata": {
    "tags": []
   },
   "outputs": [
    {
     "data": {
      "text/plain": [
       "{'book_2': {'aliases': {},\n",
       "  'mappings': {'properties': {'director': {'type': 'text'},\n",
       "    'id': {'type': 'text'},\n",
       "    'title': {'type': 'text'},\n",
       "    'year': {'type': 'text'}}},\n",
       "  'settings': {'index': {'number_of_shards': '2',\n",
       "    'provided_name': 'book_2',\n",
       "    'creation_date': '1725401422772',\n",
       "    'analysis': {'analyzer': {'default': {'type': 'standard',\n",
       "       'stopwords': '_english_'}}},\n",
       "    'number_of_replicas': '0',\n",
       "    'uuid': 'LCfwuZEByQpUVyt3W_Fx',\n",
       "    'version': {'created': '136327827'}}}}}"
      ]
     },
     "execution_count": 7,
     "metadata": {},
     "output_type": "execute_result"
    }
   ],
   "source": [
    "vs_aos_client.indices.get(index=\"book_2\")"
   ]
  },
  {
   "cell_type": "code",
   "execution_count": 20,
   "id": "11112c6e-6b5a-4de9-9bd1-5f16c8343905",
   "metadata": {
    "tags": []
   },
   "outputs": [
    {
     "name": "stdout",
     "output_type": "stream",
     "text": [
      "\n",
      "Indexing - index1:\n"
     ]
    },
    {
     "data": {
      "text/plain": [
       "(1, [])"
      ]
     },
     "execution_count": 20,
     "metadata": {},
     "output_type": "execute_result"
    }
   ],
   "source": [
    "# index a document\n",
    "from opensearchpy.helpers import bulk\n",
    "documents = []\n",
    "document = {\n",
    "    \"_op_type\": \"index\",\n",
    "    \"_index\": \"book_2\",\n",
    "    \"director\": \"Stephen King\",\n",
    "    \"title\": \"The Green Mile\",\n",
    "    \"year\": \"1996\",\n",
    "    \"id\": \"1\"\n",
    "}\n",
    "params = []\n",
    "headers = []\n",
    "documents.append(document)\n",
    "\n",
    "print('\\nIndexing - index1:')\n",
    "\n",
    "#index_response1 = vs_aos_client.bulk(\n",
    "#    index = \"book_2\",\n",
    "#    body = documents,\n",
    "#    id = \"1\"\n",
    "#)\n",
    "#print(index_response1)\n",
    "bulk(vs_aos_client, documents, max_chunk_bytes=(100 * 1024))"
   ]
  },
  {
   "cell_type": "code",
   "execution_count": 38,
   "id": "c85f4f1d-97fd-4b7e-865c-d7838976c954",
   "metadata": {
    "tags": []
   },
   "outputs": [
    {
     "data": {
      "text/plain": [
       "{'_index': 'book_2',\n",
       " '_id': '1%3A0%3AyUsQupEBSE2l0lVlSg2V',\n",
       " '_version': 1,\n",
       " 'result': 'created',\n",
       " '_shards': {'total': 0, 'successful': 0, 'failed': 0},\n",
       " '_seq_no': 0,\n",
       " '_primary_term': 0}"
      ]
     },
     "execution_count": 38,
     "metadata": {},
     "output_type": "execute_result"
    }
   ],
   "source": [
    "document = {\n",
    "    \"director\": \"Roland Emerich\",\n",
    "    \"title\": \"The Independece Day\",\n",
    "    \"year\": \"1996\",\n",
    "   \"id\": \"4\"\n",
    "}\n",
    "#vs_aos_client.index\n",
    "vs_aos_client.index(index=\"book_2\",body=document,op_type=\"index\")\n",
    "                    "
   ]
  },
  {
   "cell_type": "code",
   "execution_count": 40,
   "id": "7af642c2-6ffb-4a11-907a-a3a149cb4db8",
   "metadata": {
    "tags": []
   },
   "outputs": [
    {
     "data": {
      "text/plain": [
       "{'_index': 'book_2',\n",
       " '_id': '1%3A0%3Ab-YSupEBKwGr2Tq_AM15',\n",
       " '_version': 1,\n",
       " 'result': 'created',\n",
       " '_shards': {'total': 0, 'successful': 0, 'failed': 0},\n",
       " '_seq_no': 0,\n",
       " '_primary_term': 0}"
      ]
     },
     "execution_count": 40,
     "metadata": {},
     "output_type": "execute_result"
    }
   ],
   "source": [
    "document = {\n",
    "    \"director\": \"Steven Spielberg\",\n",
    "    \"title\": \"Jaws\",\n",
    "    \"year\": \"1996\",\n",
    "   \"id\": \"tt000123456\"\n",
    "}\n",
    "#vs_aos_client.index\n",
    "vs_aos_client.index(index=\"book_2\",body=document,op_type=\"index\")"
   ]
  },
  {
   "cell_type": "code",
   "execution_count": 39,
   "id": "08f8adef-d077-4947-80ef-fead9fb02d3f",
   "metadata": {
    "tags": []
   },
   "outputs": [
    {
     "name": "stdout",
     "output_type": "stream",
     "text": [
      "\n",
      "Searching - index1:\n",
      "{'took': 80, 'timed_out': False, '_shards': {'total': 0, 'successful': 0, 'skipped': 0, 'failed': 0}, 'hits': {'total': {'value': 1, 'relation': 'eq'}, 'max_score': 1.9616582, 'hits': [{'_index': 'book_2', '_id': '1%3A0%3AbuYPupEBKwGr2Tq_gs1k', '_score': 1.9616582, '_source': {'director': 'Roland Emerich', 'title': 'The Independece Day', 'year': '1996', 'id': '4'}}]}}\n"
     ]
    }
   ],
   "source": [
    "q1 = \"The Independence Day\"\n",
    "query1 = {\n",
    "  'size': 5,\n",
    "  'query': {\n",
    "    'multi_match': {\n",
    "      'query': q1,\n",
    "      'fields': ['title^2', 'director']\n",
    "    }\n",
    "  }\n",
    "}\n",
    "\n",
    "print('\\nSearching - index1:')\n",
    "search_response1 = vs_aos_client.search(\n",
    "    body = query1,\n",
    "    index = 'book_2'\n",
    ")\n",
    "print(search_response1)"
   ]
  },
  {
   "cell_type": "code",
   "execution_count": 43,
   "id": "df641d90-9524-406e-b443-2772edc9ab30",
   "metadata": {
    "tags": []
   },
   "outputs": [
    {
     "name": "stdout",
     "output_type": "stream",
     "text": [
      "\n",
      "Searching - index1:Jaws\n",
      "{'took': 32, 'timed_out': False, '_shards': {'total': 0, 'successful': 0, 'skipped': 0, 'failed': 0}, 'hits': {'total': {'value': 1, 'relation': 'eq'}, 'max_score': 2.919871, 'hits': [{'_index': 'book_2', '_id': '1%3A0%3Ab-YSupEBKwGr2Tq_AM15', '_score': 2.919871, '_source': {'director': 'Steven Spielberg', 'title': 'Jaws', 'year': '1996', 'id': 'tt000123456'}}]}}\n"
     ]
    }
   ],
   "source": [
    "q2 = \"Jaws\"\n",
    "query2 = {\n",
    "  'size': 5,\n",
    "  'query': {\n",
    "    'multi_match': {\n",
    "      'query': q2,\n",
    "      'fields': ['title^2', 'director']\n",
    "    }\n",
    "  }\n",
    "}\n",
    "\n",
    "print('\\nSearching - index1:' + q2)\n",
    "search_response2 = vs_aos_client.search(\n",
    "    body = query2,\n",
    "    index = 'book_2'\n",
    ")\n",
    "print(search_response2)"
   ]
  },
  {
   "cell_type": "code",
   "execution_count": 45,
   "id": "f9b3eebf-9336-4891-94a1-c56ee6e38c04",
   "metadata": {
    "tags": []
   },
   "outputs": [
    {
     "name": "stdout",
     "output_type": "stream",
     "text": [
      "\n",
      "Searching - index1:Mile\n",
      "{'took': 19, 'timed_out': False, '_shards': {'total': 0, 'successful': 0, 'skipped': 0, 'failed': 0}, 'hits': {'total': {'value': 1, 'relation': 'eq'}, 'max_score': 2.2749918, 'hits': [{'_index': 'book_2', '_id': '1%3A0%3Axkv_uZEBSE2l0lVlzQ0D', '_score': 2.2749918, '_source': {'director': 'Stephen King', 'title': 'The Green Mile', 'year': '1996', 'id': '1'}}]}}\n"
     ]
    }
   ],
   "source": [
    "q3 = \"Mile\"\n",
    "query3 = {\n",
    "  'size': 5,\n",
    "  'query': {\n",
    "    'multi_match': {\n",
    "      'query': q3,\n",
    "      'fields': ['title^2', 'director']\n",
    "    }\n",
    "  }\n",
    "}\n",
    "\n",
    "print('\\nSearching - index1:' + q3)\n",
    "search_response3 = vs_aos_client.search(\n",
    "    body = query3,\n",
    "    index = 'book_2'\n",
    ")\n",
    "print(search_response3)"
   ]
  },
  {
   "cell_type": "code",
   "execution_count": null,
   "id": "2f336d0e-27b7-4912-8d53-58c1dbe8368f",
   "metadata": {},
   "outputs": [],
   "source": [
    "# delete the index\n",
    "#delete_response = vs_aos_client.indices.delete(\n",
    "#    index_name\n",
    "#)\n",
    "\n",
    "#print('\\nDeleting index:')\n",
    "#print(delete_response)"
   ]
  },
  {
   "cell_type": "code",
   "execution_count": 17,
   "id": "7b6f4c17-d984-49ee-8d92-55171435096e",
   "metadata": {
    "tags": []
   },
   "outputs": [
    {
     "name": "stdout",
     "output_type": "stream",
     "text": [
      "\n",
      "Creating index2:\n",
      "{'acknowledged': True, 'shards_acknowledged': True, 'index': 'python-test-index'}\n"
     ]
    },
    {
     "data": {
      "text/plain": [
       "{'python-test-index': {'aliases': {},\n",
       "  'mappings': {},\n",
       "  'settings': {'index': {'creation_date': '1724894679298',\n",
       "    'number_of_shards': '2',\n",
       "    'number_of_replicas': '0',\n",
       "    'uuid': 'Jiy8m5EBIRMOPYHxEPmW',\n",
       "    'version': {'created': '135217827'},\n",
       "    'provided_name': 'python-test-index'}}}}"
      ]
     },
     "execution_count": 17,
     "metadata": {},
     "output_type": "execute_result"
    }
   ],
   "source": [
    "index_name2 = 'python-test-index'\n",
    "index_body2 = {\n",
    "  'settings': {\n",
    "    'index': {\n",
    "      'number_of_shards': 4\n",
    "    }\n",
    "  }\n",
    "}\n",
    "\n",
    "print('\\nCreating index2:')\n",
    "\n",
    "create_response2 = vs_aos_client.indices.create(index_name2, body=index_body2)\n",
    "print(create_response2)\n",
    "\n",
    "vs_aos_client.indices.get(index=\"python-test-index\")\n",
    "\n"
   ]
  },
  {
   "cell_type": "code",
   "execution_count": 22,
   "id": "2c05d67b-21ba-4d17-bc9e-5c93817a110d",
   "metadata": {
    "tags": []
   },
   "outputs": [
    {
     "name": "stdout",
     "output_type": "stream",
     "text": [
      "\n",
      "Indexing - index1:\n",
      "{'_index': 'python-test-index', '_id': '1%3A0%3Azcy9m5EBKwGr2Tq_ha-l', '_version': 1, 'result': 'created', '_shards': {'total': 0, 'successful': 0, 'failed': 0}, '_seq_no': 0, '_primary_term': 0}\n"
     ]
    }
   ],
   "source": [
    "document2 = {\n",
    "  'title': 'Moneyball',\n",
    "  'director': 'Bennett Miller',\n",
    "  'year': '2011'\n",
    "}\n",
    "\n",
    "print('\\nIndexing - index1:')\n",
    "\n",
    "index_response2 = vs_aos_client.index(\n",
    "    index = 'python-test-index',\n",
    "    body = document2\n",
    "    #id = '1',\n",
    "    #refresh = True\n",
    ")\n",
    "\n",
    "\n",
    "print(index_response2)"
   ]
  },
  {
   "cell_type": "code",
   "execution_count": 23,
   "id": "d07210f0-0fb0-4d66-922f-13fce72b447d",
   "metadata": {
    "tags": []
   },
   "outputs": [
    {
     "name": "stdout",
     "output_type": "stream",
     "text": [
      "\n",
      "Searching - index2:\n",
      "{'took': 63, 'timed_out': False, '_shards': {'total': 0, 'successful': 0, 'skipped': 0, 'failed': 0}, 'hits': {'total': {'value': 1, 'relation': 'eq'}, 'max_score': 0.2876821, 'hits': [{'_index': 'python-test-index', '_id': '1%3A0%3AUjC8m5EBSE2l0lVlv8vF', '_score': 0.2876821, '_source': {'title': 'Moneyball', 'director': 'Bennett Miller', 'year': '2011'}}]}}\n"
     ]
    }
   ],
   "source": [
    "q2 = 'Miller'\n",
    "query2 = {\n",
    "  'size': 5,\n",
    "  'query': {\n",
    "    'multi_match': {\n",
    "      'query': q2,\n",
    "      'fields': ['title^2', 'director']\n",
    "    }\n",
    "  }\n",
    "}\n",
    "\n",
    "print('\\nSearching - index2:')\n",
    "\n",
    "search_response2 = vs_aos_client.search(\n",
    "    body = query2,\n",
    "    index = 'python-test-index'\n",
    ")\n",
    "print(search_response2)"
   ]
  },
  {
   "cell_type": "code",
   "execution_count": null,
   "id": "b7e199e1-32f2-4d9f-97b7-c27d9d842eb1",
   "metadata": {},
   "outputs": [],
   "source": [
    "# delete the index\n",
    "#delete_response2 = vs_aos_client.indices.delete(\n",
    "#    index_name2\n",
    "#)\n",
    "\n",
    "#print('\\nDeleting index2:')\n",
    "#print(delete_response2)"
   ]
  }
 ],
 "metadata": {
  "kernelspec": {
   "display_name": "Python 3",
   "language": "python",
   "name": "python3"
  },
  "language_info": {
   "codemirror_mode": {
    "name": "ipython",
    "version": 3
   },
   "file_extension": ".py",
   "mimetype": "text/x-python",
   "name": "python",
   "nbconvert_exporter": "python",
   "pygments_lexer": "ipython3",
   "version": "3.10.8"
  }
 },
 "nbformat": 4,
 "nbformat_minor": 5
}
